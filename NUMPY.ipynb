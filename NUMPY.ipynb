{
 "cells": [
  {
   "cell_type": "code",
   "execution_count": null,
   "metadata": {},
   "outputs": [],
   "source": [
    "# GETTING INFORMATION ABOUT THE BUSINESS OR THE ORGANIZATION\n",
    "# KNOW THE PROBLEM AT HAND\n",
    "# GETTING THE WRIGHT DATA\n",
    "#EDA EXPLORATIVE DATA ANALYSIS\n",
    "    # DATA CLEANING\n",
    "    # DATA TRANSFORMATION\n",
    "    # DECRIPTIVE ANALYIS(PYTHON, POWERBI, TABLEAU)\n",
    "    # DATA VISUALIZATION(PYTHON, POWERBI, TABLEAU)\n",
    "#MACHINE LEARNING(PYTHON,LINEAR REGRESSION,BINARY CLASSIFICATION,MULTICLASSIFICATION,CLUSTERING,TEXT OR SENTIMENT ANALYSIS)\n",
    "    # PREPROCESSING\n",
    "    # MODEL BUILDING\n",
    "    # EVALUATION(VERIFICATION)\n",
    "    # MODEL DEPLOYMENT\n",
    "# DEEP LEARNING"
   ]
  },
  {
   "cell_type": "code",
   "execution_count": 2,
   "metadata": {},
   "outputs": [],
   "source": [
    "# NUMPY : NUMERICAL PYTHON\n",
    "import numpy as np\n"
   ]
  },
  {
   "cell_type": "code",
   "execution_count": 3,
   "metadata": {},
   "outputs": [
    {
     "data": {
      "text/plain": [
       "array([75, 85, 60, 47])"
      ]
     },
     "execution_count": 3,
     "metadata": {},
     "output_type": "execute_result"
    }
   ],
   "source": [
    "arr1 = np.array([75,85,60,47])\n",
    "arr1 \n"
   ]
  },
  {
   "cell_type": "code",
   "execution_count": 6,
   "metadata": {},
   "outputs": [
    {
     "data": {
      "text/plain": [
       "1"
      ]
     },
     "execution_count": 6,
     "metadata": {},
     "output_type": "execute_result"
    }
   ],
   "source": [
    "arr1.ndim #checking the numbers of array dimension\n"
   ]
  },
  {
   "cell_type": "code",
   "execution_count": 10,
   "metadata": {},
   "outputs": [
    {
     "data": {
      "text/plain": [
       "(4,)"
      ]
     },
     "execution_count": 10,
     "metadata": {},
     "output_type": "execute_result"
    }
   ],
   "source": [
    "arr1.shape "
   ]
  },
  {
   "cell_type": "code",
   "execution_count": 14,
   "metadata": {},
   "outputs": [
    {
     "data": {
      "text/plain": [
       "dtype('int32')"
      ]
     },
     "execution_count": 14,
     "metadata": {},
     "output_type": "execute_result"
    }
   ],
   "source": [
    "arr1.dtype\n"
   ]
  },
  {
   "cell_type": "code",
   "execution_count": 10,
   "metadata": {},
   "outputs": [
    {
     "data": {
      "text/plain": [
       "array([[34, 56, 23, 66, 76],\n",
       "       [65, 77, 65, 34, 21]])"
      ]
     },
     "execution_count": 10,
     "metadata": {},
     "output_type": "execute_result"
    }
   ],
   "source": [
    "arr2 = np.array([[34, 56, 23, 66, 76], [65,77,65,34,21]])\n",
    "arr2"
   ]
  },
  {
   "cell_type": "code",
   "execution_count": 11,
   "metadata": {},
   "outputs": [
    {
     "data": {
      "text/plain": [
       "(2, 5)"
      ]
     },
     "execution_count": 11,
     "metadata": {},
     "output_type": "execute_result"
    }
   ],
   "source": [
    "arr2.shape"
   ]
  },
  {
   "cell_type": "code",
   "execution_count": 12,
   "metadata": {},
   "outputs": [
    {
     "data": {
      "text/plain": [
       "2"
      ]
     },
     "execution_count": 12,
     "metadata": {},
     "output_type": "execute_result"
    }
   ],
   "source": [
    "arr2.ndim"
   ]
  },
  {
   "cell_type": "code",
   "execution_count": 22,
   "metadata": {},
   "outputs": [
    {
     "data": {
      "text/plain": [
       "dtype('int32')"
      ]
     },
     "execution_count": 22,
     "metadata": {},
     "output_type": "execute_result"
    }
   ],
   "source": [
    "arr2.dtype"
   ]
  },
  {
   "cell_type": "code",
   "execution_count": 24,
   "metadata": {},
   "outputs": [
    {
     "data": {
      "text/plain": [
       "array([0., 0., 0., 0., 0., 0., 0., 0., 0., 0., 0., 0., 0., 0., 0., 0., 0.,\n",
       "       0., 0., 0.])"
      ]
     },
     "execution_count": 24,
     "metadata": {},
     "output_type": "execute_result"
    }
   ],
   "source": [
    "np.zeros(20)"
   ]
  },
  {
   "cell_type": "code",
   "execution_count": 30,
   "metadata": {},
   "outputs": [
    {
     "data": {
      "text/plain": [
       "array([[0., 0., 0., 0., 0.],\n",
       "       [0., 0., 0., 0., 0.],\n",
       "       [0., 0., 0., 0., 0.],\n",
       "       [0., 0., 0., 0., 0.]])"
      ]
     },
     "execution_count": 30,
     "metadata": {},
     "output_type": "execute_result"
    }
   ],
   "source": [
    "np.zeros((4,5))"
   ]
  },
  {
   "cell_type": "code",
   "execution_count": 32,
   "metadata": {},
   "outputs": [
    {
     "data": {
      "text/plain": [
       "array([1., 1., 1., 1., 1., 1., 1., 1., 1., 1., 1., 1., 1., 1., 1., 1., 1.,\n",
       "       1., 1., 1., 1., 1., 1., 1., 1., 1., 1., 1., 1., 1., 1., 1., 1., 1.,\n",
       "       1., 1., 1., 1., 1., 1., 1., 1., 1., 1., 1., 1., 1., 1., 1., 1., 1.,\n",
       "       1., 1., 1., 1., 1., 1., 1., 1., 1.])"
      ]
     },
     "execution_count": 32,
     "metadata": {},
     "output_type": "execute_result"
    }
   ],
   "source": [
    "np.ones(60)"
   ]
  },
  {
   "cell_type": "code",
   "execution_count": 34,
   "metadata": {},
   "outputs": [
    {
     "data": {
      "text/plain": [
       "array([[1., 1., 1., 1., 1.],\n",
       "       [1., 1., 1., 1., 1.],\n",
       "       [1., 1., 1., 1., 1.],\n",
       "       [1., 1., 1., 1., 1.],\n",
       "       [1., 1., 1., 1., 1.]])"
      ]
     },
     "execution_count": 34,
     "metadata": {},
     "output_type": "execute_result"
    }
   ],
   "source": [
    "np.ones((5,5))"
   ]
  },
  {
   "cell_type": "code",
   "execution_count": 36,
   "metadata": {},
   "outputs": [
    {
     "data": {
      "text/plain": [
       "array([[15., 15., 15., 15., 15.],\n",
       "       [15., 15., 15., 15., 15.],\n",
       "       [15., 15., 15., 15., 15.],\n",
       "       [15., 15., 15., 15., 15.],\n",
       "       [15., 15., 15., 15., 15.]])"
      ]
     },
     "execution_count": 36,
     "metadata": {},
     "output_type": "execute_result"
    }
   ],
   "source": [
    "np.ones((5,5))* 15"
   ]
  },
  {
   "cell_type": "code",
   "execution_count": 14,
   "metadata": {},
   "outputs": [
    {
     "data": {
      "text/plain": [
       "array([20.        , 21.42857143, 22.85714286, 24.28571429, 25.71428571,\n",
       "       27.14285714, 28.57142857, 30.        , 31.42857143, 32.85714286,\n",
       "       34.28571429, 35.71428571, 37.14285714, 38.57142857, 40.        ,\n",
       "       41.42857143, 42.85714286, 44.28571429, 45.71428571, 47.14285714,\n",
       "       48.57142857, 50.        , 51.42857143, 52.85714286, 54.28571429,\n",
       "       55.71428571, 57.14285714, 58.57142857, 60.        , 61.42857143,\n",
       "       62.85714286, 64.28571429, 65.71428571, 67.14285714, 68.57142857,\n",
       "       70.        , 71.42857143, 72.85714286, 74.28571429, 75.71428571,\n",
       "       77.14285714, 78.57142857, 80.        , 81.42857143, 82.85714286,\n",
       "       84.28571429, 85.71428571, 87.14285714, 88.57142857, 90.        ])"
      ]
     },
     "execution_count": 14,
     "metadata": {},
     "output_type": "execute_result"
    }
   ],
   "source": [
    "# lin shape, is use to generate evenly spaced over a spacified interval\n",
    "np.linspace(20,90)"
   ]
  },
  {
   "cell_type": "code",
   "execution_count": 40,
   "metadata": {},
   "outputs": [
    {
     "data": {
      "text/plain": [
       "array([[1., 0., 0., 0., 0., 0.],\n",
       "       [0., 1., 0., 0., 0., 0.],\n",
       "       [0., 0., 1., 0., 0., 0.],\n",
       "       [0., 0., 0., 1., 0., 0.],\n",
       "       [0., 0., 0., 0., 1., 0.],\n",
       "       [0., 0., 0., 0., 0., 1.]])"
      ]
     },
     "execution_count": 40,
     "metadata": {},
     "output_type": "execute_result"
    }
   ],
   "source": [
    " # the eye is to create 2 dm having 0 elsewhere and 1 diagonal\n",
    "np.eye(6)"
   ]
  },
  {
   "cell_type": "code",
   "execution_count": 42,
   "metadata": {},
   "outputs": [
    {
     "data": {
      "text/plain": [
       "array([  1,   2,   3,   4,   5,   6,   7,   8,   9,  10,  11,  12,  13,\n",
       "        14,  15,  16,  17,  18,  19,  20,  21,  22,  23,  24,  25,  26,\n",
       "        27,  28,  29,  30,  31,  32,  33,  34,  35,  36,  37,  38,  39,\n",
       "        40,  41,  42,  43,  44,  45,  46,  47,  48,  49,  50,  51,  52,\n",
       "        53,  54,  55,  56,  57,  58,  59,  60,  61,  62,  63,  64,  65,\n",
       "        66,  67,  68,  69,  70,  71,  72,  73,  74,  75,  76,  77,  78,\n",
       "        79,  80,  81,  82,  83,  84,  85,  86,  87,  88,  89,  90,  91,\n",
       "        92,  93,  94,  95,  96,  97,  98,  99, 100])"
      ]
     },
     "execution_count": 42,
     "metadata": {},
     "output_type": "execute_result"
    }
   ],
   "source": [
    "# arange  is use to arrange specific interval\n",
    "\n",
    "arr4 = np.arange(1,101)\n",
    "arr4"
   ]
  },
  {
   "cell_type": "code",
   "execution_count": 44,
   "metadata": {},
   "outputs": [
    {
     "data": {
      "text/plain": [
       "array([ 1,  6, 11, 16, 21, 26, 31, 36, 41, 46, 51, 56, 61, 66, 71, 76, 81,\n",
       "       86, 91, 96])"
      ]
     },
     "execution_count": 44,
     "metadata": {},
     "output_type": "execute_result"
    }
   ],
   "source": [
    "arr4 = np.arange(1,101,5)\n",
    "arr4"
   ]
  },
  {
   "cell_type": "code",
   "execution_count": 46,
   "metadata": {},
   "outputs": [
    {
     "data": {
      "text/plain": [
       "array([ 1, 11, 21, 31, 41, 51, 61, 71, 81, 91])"
      ]
     },
     "execution_count": 46,
     "metadata": {},
     "output_type": "execute_result"
    }
   ],
   "source": [
    "arr4 = np.arange(1,101,10)\n",
    "arr4"
   ]
  },
  {
   "cell_type": "code",
   "execution_count": 56,
   "metadata": {},
   "outputs": [
    {
     "data": {
      "text/plain": [
       "array([97, 77, 96, 73, 41, 17, 38, 55, 51, 59])"
      ]
     },
     "execution_count": 56,
     "metadata": {},
     "output_type": "execute_result"
    }
   ],
   "source": [
    "arr5 = np.random.randint(15,105,10)\n",
    "arr5"
   ]
  },
  {
   "cell_type": "code",
   "execution_count": 52,
   "metadata": {},
   "outputs": [
    {
     "data": {
      "text/plain": [
       "array([ 82,  97,  44,  51,  45,  53,  26,  39,  74,  40,  70, 101,  61,\n",
       "        37,  74,  93,  76,  61,  53,  83,  16, 102,  76,  40,  76,  64,\n",
       "        57,  52,  57,  49,  46, 103,  31,  85,  46,  84,  50,  81,  85,\n",
       "        52,  64,  31,  70,  64,  83,  43,  95, 104,  96,  69,  91,  43,\n",
       "        24, 101,  86,  17,  85,  52,  86,  45,  40,  61,  95,  65,  32,\n",
       "        63,  34,  47,  63, 102,  45,  80,  30,  17,  67,  53,  26,  84,\n",
       "        45,  88,  72,  31,  57,  77,  17,  16,  71,  39, 103,  76,  33,\n",
       "        97,  88,  27,  84,  94,  24,  25,  97,  69])"
      ]
     },
     "execution_count": 52,
     "metadata": {},
     "output_type": "execute_result"
    }
   ],
   "source": [
    "arr5 = np.random.randint(15,105,100)\n",
    "arr5"
   ]
  },
  {
   "cell_type": "code",
   "execution_count": 58,
   "metadata": {},
   "outputs": [
    {
     "data": {
      "text/plain": [
       "array([ 93,  76,  31,  88,  23,  77,  42,  45,  95,  22,  91,  30,  68,\n",
       "        95,  42,  59,  92,  90,  80,  62,  45,  99, 101,  33,  24,  56,\n",
       "        77,  16,  97,  31,  93,  20,  73,  15,  95,  19,  51,  66,  42,\n",
       "        46,  17,  83,  53,  98,  34,  33,  22,  45,  77,  26,  82,  80,\n",
       "        70,  18,  93,  42,  44,  48, 104, 100,  22,  31,  29,  46,  24,\n",
       "        53,  62,  31,  20,  49,  60,  74,  39,  28,  46,  47,  91,  59,\n",
       "        20,  29,  62,  97,  15,  22, 101,  31,  79,  23,  59,  52,  90,\n",
       "        20,  37,  67,  84,  97,  75,  44, 103,  94])"
      ]
     },
     "execution_count": 58,
     "metadata": {},
     "output_type": "execute_result"
    }
   ],
   "source": [
    "# seed\n",
    "np.random.seed(5)\n",
    "arr5 = np.random.randint(15,105,100)\n",
    "arr5"
   ]
  },
  {
   "cell_type": "code",
   "execution_count": 60,
   "metadata": {},
   "outputs": [
    {
     "data": {
      "text/plain": [
       "array([[ 93,  76,  31,  88,  23,  77,  42,  45,  95,  22],\n",
       "       [ 91,  30,  68,  95,  42,  59,  92,  90,  80,  62],\n",
       "       [ 45,  99, 101,  33,  24,  56,  77,  16,  97,  31],\n",
       "       [ 93,  20,  73,  15,  95,  19,  51,  66,  42,  46],\n",
       "       [ 17,  83,  53,  98,  34,  33,  22,  45,  77,  26],\n",
       "       [ 82,  80,  70,  18,  93,  42,  44,  48, 104, 100],\n",
       "       [ 22,  31,  29,  46,  24,  53,  62,  31,  20,  49],\n",
       "       [ 60,  74,  39,  28,  46,  47,  91,  59,  20,  29],\n",
       "       [ 62,  97,  15,  22, 101,  31,  79,  23,  59,  52],\n",
       "       [ 90,  20,  37,  67,  84,  97,  75,  44, 103,  94]])"
      ]
     },
     "execution_count": 60,
     "metadata": {},
     "output_type": "execute_result"
    }
   ],
   "source": [
    "arr6 = arr5.reshape((10,10))\n",
    "arr6"
   ]
  },
  {
   "cell_type": "code",
   "execution_count": 62,
   "metadata": {},
   "outputs": [
    {
     "data": {
      "text/plain": [
       "33"
      ]
     },
     "execution_count": 62,
     "metadata": {},
     "output_type": "execute_result"
    }
   ],
   "source": [
    "arr6[4,5]"
   ]
  },
  {
   "cell_type": "code",
   "execution_count": 64,
   "metadata": {},
   "outputs": [
    {
     "data": {
      "text/plain": [
       "array([[15, 95, 19],\n",
       "       [98, 34, 33],\n",
       "       [18, 93, 42],\n",
       "       [46, 24, 53]])"
      ]
     },
     "execution_count": 64,
     "metadata": {},
     "output_type": "execute_result"
    }
   ],
   "source": [
    "arr6[3:7,3:6]"
   ]
  },
  {
   "cell_type": "code",
   "execution_count": 66,
   "metadata": {},
   "outputs": [
    {
     "data": {
      "text/plain": [
       "array([[45, 95, 22],\n",
       "       [90, 80, 62],\n",
       "       [16, 97, 31],\n",
       "       [66, 42, 46]])"
      ]
     },
     "execution_count": 66,
     "metadata": {},
     "output_type": "execute_result"
    }
   ],
   "source": [
    "arr6[0:4,7:10]"
   ]
  },
  {
   "cell_type": "code",
   "execution_count": 68,
   "metadata": {},
   "outputs": [
    {
     "data": {
      "text/plain": [
       "array([[ 93,  76,  31,  88,  23,  77,  42, 100, 100, 100],\n",
       "       [ 91,  30,  68,  95,  42,  59,  92, 100, 100, 100],\n",
       "       [ 45,  99, 101,  33,  24,  56,  77, 100, 100, 100],\n",
       "       [ 93,  20,  73,  15,  95,  19,  51, 100, 100, 100],\n",
       "       [ 17,  83,  53,  98,  34,  33,  22,  45,  77,  26],\n",
       "       [ 82,  80,  70,  18,  93,  42,  44,  48, 104, 100],\n",
       "       [ 22,  31,  29,  46,  24,  53,  62,  31,  20,  49],\n",
       "       [ 60,  74,  39,  28,  46,  47,  91,  59,  20,  29],\n",
       "       [ 62,  97,  15,  22, 101,  31,  79,  23,  59,  52],\n",
       "       [ 90,  20,  37,  67,  84,  97,  75,  44, 103,  94]])"
      ]
     },
     "execution_count": 68,
     "metadata": {},
     "output_type": "execute_result"
    }
   ],
   "source": [
    "# broadcasting is use to change the particular area selected to a givin figure\n",
    "arr6[0:4,7:10] = 100\n",
    "arr6"
   ]
  },
  {
   "cell_type": "code",
   "execution_count": 70,
   "metadata": {},
   "outputs": [
    {
     "data": {
      "text/plain": [
       "array([ 93,  76,  31,  88,  23,  77,  42, 100, 100, 100,  91,  30,  68,\n",
       "        95,  42,  59,  92, 100, 100, 100,  45,  99, 101,  33,  24,  56,\n",
       "        77, 100, 100, 100,  93,  20,  73,  15,  95,  19,  51, 100, 100,\n",
       "       100,  17,  83,  53,  98,  34,  33,  22,  45,  77,  26,  82,  80,\n",
       "        70,  18,  93,  42,  44,  48, 104, 100,  22,  31,  29,  46,  24,\n",
       "        53,  62,  31,  20,  49,  60,  74,  39,  28,  46,  47,  91,  59,\n",
       "        20,  29,  62,  97,  15,  22, 101,  31,  79,  23,  59,  52,  90,\n",
       "        20,  37,  67,  84,  97,  75,  44, 103,  94])"
      ]
     },
     "execution_count": 70,
     "metadata": {},
     "output_type": "execute_result"
    }
   ],
   "source": [
    "arr7 = arr6.flatten()\n",
    "arr7"
   ]
  },
  {
   "cell_type": "code",
   "execution_count": 72,
   "metadata": {},
   "outputs": [
    {
     "data": {
      "text/plain": [
       "6189"
      ]
     },
     "execution_count": 72,
     "metadata": {},
     "output_type": "execute_result"
    }
   ],
   "source": [
    "np.sum(arr7)"
   ]
  },
  {
   "cell_type": "code",
   "execution_count": 74,
   "metadata": {},
   "outputs": [
    {
     "data": {
      "text/plain": [
       "104"
      ]
     },
     "execution_count": 74,
     "metadata": {},
     "output_type": "execute_result"
    }
   ],
   "source": [
    "np.max(arr7)"
   ]
  },
  {
   "cell_type": "code",
   "execution_count": 78,
   "metadata": {},
   "outputs": [
    {
     "data": {
      "text/plain": [
       "15"
      ]
     },
     "execution_count": 78,
     "metadata": {},
     "output_type": "execute_result"
    }
   ],
   "source": [
    "np.min(arr7)"
   ]
  },
  {
   "cell_type": "code",
   "execution_count": 80,
   "metadata": {},
   "outputs": [
    {
     "data": {
      "text/plain": [
       "61.89"
      ]
     },
     "execution_count": 80,
     "metadata": {},
     "output_type": "execute_result"
    }
   ],
   "source": [
    "np.mean(arr7)"
   ]
  },
  {
   "cell_type": "code",
   "execution_count": 84,
   "metadata": {},
   "outputs": [
    {
     "data": {
      "text/plain": [
       "60.5"
      ]
     },
     "execution_count": 84,
     "metadata": {},
     "output_type": "execute_result"
    }
   ],
   "source": [
    "np.median(arr2)"
   ]
  },
  {
   "cell_type": "code",
   "execution_count": 86,
   "metadata": {},
   "outputs": [
    {
     "data": {
      "text/plain": [
       "59.5"
      ]
     },
     "execution_count": 86,
     "metadata": {},
     "output_type": "execute_result"
    }
   ],
   "source": [
    "# percentile is the sum of pecertage\n",
    "np.percentile(arr7,50)"
   ]
  },
  {
   "cell_type": "code",
   "execution_count": 88,
   "metadata": {},
   "outputs": [
    {
     "data": {
      "text/plain": [
       "58"
      ]
     },
     "execution_count": 88,
     "metadata": {},
     "output_type": "execute_result"
    }
   ],
   "source": [
    "# argmax is use to check the locationof the maximum number\n",
    "np.argmax(arr7)"
   ]
  },
  {
   "cell_type": "code",
   "execution_count": 90,
   "metadata": {},
   "outputs": [
    {
     "data": {
      "text/plain": [
       "33"
      ]
     },
     "execution_count": 90,
     "metadata": {},
     "output_type": "execute_result"
    }
   ],
   "source": [
    "# argmin is use to check the location of the minimum number\n",
    "np.argmin(arr7)"
   ]
  },
  {
   "cell_type": "code",
   "execution_count": 92,
   "metadata": {},
   "outputs": [],
   "source": [
    "#domain knowledge\n",
    "# communication skills\n",
    "#problem-solving and critical thinking\n",
    "#collaboration and teamwork\n",
    "#ethics and data privacy\n",
    "# project management\n",
    "# business acumen\n",
    "# adaptability and continuons learning\n",
    "# the art of commuication\n",
    "# tailoring communication\n",
    "# persuasive communication\n",
    "# mastering visualization tools\n",
    "#choosing the right visuals\n",
    "# design principles\n",
    "# data storytelling and context\n",
    "# "
   ]
  },
  {
   "cell_type": "code",
   "execution_count": 95,
   "metadata": {},
   "outputs": [],
   "source": [
    "import pandas as pd"
   ]
  },
  {
   "cell_type": "code",
   "execution_count": null,
   "metadata": {},
   "outputs": [],
   "source": []
  }
 ],
 "metadata": {
  "kernelspec": {
   "display_name": "Python 3 (ipykernel)",
   "language": "python",
   "name": "python3"
  },
  "language_info": {
   "codemirror_mode": {
    "name": "ipython",
    "version": 3
   },
   "file_extension": ".py",
   "mimetype": "text/x-python",
   "name": "python",
   "nbconvert_exporter": "python",
   "pygments_lexer": "ipython3",
   "version": "3.12.4"
  }
 },
 "nbformat": 4,
 "nbformat_minor": 4
}
